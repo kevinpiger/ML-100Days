{
 "cells": [
  {
   "cell_type": "markdown",
   "metadata": {},
   "source": [
    "## 練習時間\n",
    "試著使用 sklearn datasets 的其他資料集 (boston, ...)，來訓練自己的線性迴歸模型，並加上適當的正則話來觀察訓練情形。\n",
    "\n",
    "-----\n",
    "使用Lasso去fit wine data 的回歸模型，在alpha 為0.8下 MSE最大，而在Logistic Regression下的模型，MSE最小。"
   ]
  },
  {
   "cell_type": "code",
   "execution_count": 1,
   "metadata": {},
   "outputs": [],
   "source": [
    "import numpy as np\n",
    "import matplotlib.pyplot as plt\n",
    "from sklearn import datasets, linear_model\n",
    "from sklearn.model_selection import train_test_split\n",
    "from sklearn.metrics import mean_squared_error, r2_score"
   ]
  },
  {
   "cell_type": "code",
   "execution_count": 10,
   "metadata": {},
   "outputs": [],
   "source": [
    "# 匯入樣本檔案\n",
    "wine = datasets.load_wine()"
   ]
  },
  {
   "cell_type": "code",
   "execution_count": 18,
   "metadata": {},
   "outputs": [],
   "source": [
    "# 切割資料集\n",
    "x_train, x_test, y_train, y_test = train_test_split(wine.data,wine.target, test_size=0.2, random_state=4)"
   ]
  },
  {
   "cell_type": "code",
   "execution_count": 30,
   "metadata": {},
   "outputs": [],
   "source": [
    "# 訓練模型 Lasso 01\n",
    "model = linear_model.Lasso(0.2)\n",
    "model = model.fit(x_train, y_train)\n",
    "y_prdic = model.predict(x_test)"
   ]
  },
  {
   "cell_type": "code",
   "execution_count": 29,
   "metadata": {},
   "outputs": [
    {
     "data": {
      "text/plain": [
       "array([-0.        ,  0.        , -0.        ,  0.02547336,  0.        ,\n",
       "       -0.        , -0.15617061,  0.        , -0.        ,  0.09481945,\n",
       "       -0.        , -0.        , -0.00145954])"
      ]
     },
     "execution_count": 29,
     "metadata": {},
     "output_type": "execute_result"
    }
   ],
   "source": [
    "# 有些係數變為0\n",
    "model.coef_"
   ]
  },
  {
   "cell_type": "code",
   "execution_count": 31,
   "metadata": {},
   "outputs": [
    {
     "data": {
      "text/plain": [
       "0.1586255520439096"
      ]
     },
     "execution_count": 31,
     "metadata": {},
     "output_type": "execute_result"
    }
   ],
   "source": [
    "mean_squared_error(y_prdic, y_test)"
   ]
  },
  {
   "cell_type": "code",
   "execution_count": 32,
   "metadata": {},
   "outputs": [],
   "source": [
    "# 訓練模型 Lasso 02\n",
    "model = linear_model.Lasso(0.8)\n",
    "model = model.fit(x_train, y_train)\n",
    "y_prdic = model.predict(x_test)"
   ]
  },
  {
   "cell_type": "code",
   "execution_count": 33,
   "metadata": {},
   "outputs": [
    {
     "data": {
      "text/plain": [
       "array([ 0.        ,  0.        ,  0.        ,  0.        ,  0.        ,\n",
       "       -0.        , -0.        ,  0.        , -0.        ,  0.00040687,\n",
       "       -0.        , -0.        , -0.0016002 ])"
      ]
     },
     "execution_count": 33,
     "metadata": {},
     "output_type": "execute_result"
    }
   ],
   "source": [
    "# 有些係數變為0\n",
    "model.coef_"
   ]
  },
  {
   "cell_type": "code",
   "execution_count": 34,
   "metadata": {},
   "outputs": [
    {
     "data": {
      "text/plain": [
       "0.42340291575000066"
      ]
     },
     "execution_count": 34,
     "metadata": {},
     "output_type": "execute_result"
    }
   ],
   "source": [
    "mean_squared_error(y_prdic, y_test)"
   ]
  },
  {
   "cell_type": "code",
   "execution_count": 40,
   "metadata": {},
   "outputs": [],
   "source": [
    "# 訓練模型 Logistic Regression 03\n",
    "model = linear_model.LogisticRegression()\n",
    "model = model.fit(x_train, y_train)\n",
    "y_prdic = model.predict(x_test)"
   ]
  },
  {
   "cell_type": "code",
   "execution_count": 37,
   "metadata": {},
   "outputs": [
    {
     "data": {
      "text/plain": [
       "array([[-6.82859668e-01,  7.19707960e-01,  9.78123381e-01,\n",
       "        -5.71328117e-01, -3.15688724e-02,  3.00522569e-01,\n",
       "         1.11716205e+00, -3.43541787e-02, -4.90152098e-01,\n",
       "        -1.05390348e-02, -1.54184470e-01,  9.61330351e-01,\n",
       "         1.81479193e-02],\n",
       "       [ 9.27922692e-01, -1.04718094e+00, -6.96493690e-01,\n",
       "         2.37579965e-01,  8.45544696e-03,  8.54092990e-02,\n",
       "         4.69506561e-01,  5.63010510e-01,  5.93849824e-01,\n",
       "        -1.81380329e+00,  9.34720557e-01,  8.37098156e-02,\n",
       "        -1.40254226e-02],\n",
       "       [-4.72180741e-01,  6.31034394e-01, -6.36847580e-02,\n",
       "         1.56380289e-01,  3.13408129e-02, -7.52374558e-01,\n",
       "        -1.62587954e+00, -1.31786835e-01, -7.01391159e-01,\n",
       "         1.03384290e+00, -4.87953686e-01, -1.15357424e+00,\n",
       "         1.40302536e-04]])"
      ]
     },
     "execution_count": 37,
     "metadata": {},
     "output_type": "execute_result"
    }
   ],
   "source": [
    "# 係數\n",
    "model.coef_"
   ]
  },
  {
   "cell_type": "code",
   "execution_count": 38,
   "metadata": {},
   "outputs": [
    {
     "data": {
      "text/plain": [
       "0.027777777777777776"
      ]
     },
     "execution_count": 38,
     "metadata": {},
     "output_type": "execute_result"
    }
   ],
   "source": [
    "mean_squared_error(y_prdic, y_test)"
   ]
  },
  {
   "cell_type": "code",
   "execution_count": 44,
   "metadata": {},
   "outputs": [],
   "source": [
    "# 訓練模型 Ridge Regression04\n",
    "model = linear_model.Ridge(0.2)\n",
    "model = model.fit(x_train, y_train)\n",
    "y_prdic = model.predict(x_test)"
   ]
  },
  {
   "cell_type": "code",
   "execution_count": 45,
   "metadata": {},
   "outputs": [
    {
     "data": {
      "text/plain": [
       "array([-0.10830293,  0.016849  , -0.21618698,  0.04636497,  0.00035849,\n",
       "        0.11858429, -0.32263589, -0.16387406,  0.03660804,  0.07613104,\n",
       "       -0.15191262, -0.28316191, -0.00075551])"
      ]
     },
     "execution_count": 45,
     "metadata": {},
     "output_type": "execute_result"
    }
   ],
   "source": [
    "# 係數有很小很小但不為0的係數\n",
    "model.coef_"
   ]
  },
  {
   "cell_type": "code",
   "execution_count": 46,
   "metadata": {},
   "outputs": [
    {
     "data": {
      "text/plain": [
       "0.06720946189122684"
      ]
     },
     "execution_count": 46,
     "metadata": {},
     "output_type": "execute_result"
    }
   ],
   "source": [
    "mean_squared_error(y_prdic, y_test)"
   ]
  },
  {
   "cell_type": "code",
   "execution_count": 47,
   "metadata": {},
   "outputs": [],
   "source": [
    "# 訓練模型 Ridge Regression04\n",
    "model = linear_model.Ridge(0.8)\n",
    "model = model.fit(x_train, y_train)\n",
    "y_prdic = model.predict(x_test)"
   ]
  },
  {
   "cell_type": "code",
   "execution_count": 48,
   "metadata": {},
   "outputs": [
    {
     "data": {
      "text/plain": [
       "array([-0.10651972,  0.01744693, -0.20563903,  0.04546906,  0.00040835,\n",
       "        0.10345894, -0.314578  , -0.11444492,  0.03528817,  0.07732728,\n",
       "       -0.13867993, -0.27637491, -0.0007665 ])"
      ]
     },
     "execution_count": 48,
     "metadata": {},
     "output_type": "execute_result"
    }
   ],
   "source": [
    "# 係數有很小很小但不為0的係數\n",
    "model.coef_"
   ]
  },
  {
   "cell_type": "code",
   "execution_count": 49,
   "metadata": {},
   "outputs": [
    {
     "data": {
      "text/plain": [
       "0.06771633806407489"
      ]
     },
     "execution_count": 49,
     "metadata": {},
     "output_type": "execute_result"
    }
   ],
   "source": [
    "mean_squared_error(y_prdic, y_test)"
   ]
  },
  {
   "cell_type": "code",
   "execution_count": null,
   "metadata": {},
   "outputs": [],
   "source": []
  }
 ],
 "metadata": {
  "kernelspec": {
   "display_name": "Python 3",
   "language": "python",
   "name": "python3"
  },
  "language_info": {
   "codemirror_mode": {
    "name": "ipython",
    "version": 3
   },
   "file_extension": ".py",
   "mimetype": "text/x-python",
   "name": "python",
   "nbconvert_exporter": "python",
   "pygments_lexer": "ipython3",
   "version": "3.6.4"
  }
 },
 "nbformat": 4,
 "nbformat_minor": 2
}
