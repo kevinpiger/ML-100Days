{
 "cells": [
  {
   "cell_type": "code",
   "execution_count": 3,
   "metadata": {},
   "outputs": [],
   "source": [
    "# 載入必須使用的 Library\n",
    "import keras\n",
    "from keras.datasets import cifar10\n",
    "from keras.models import Sequential, load_model\n",
    "from keras.layers import Dense, Dropout, Activation, Flatten\n",
    "from keras.layers import Conv2D, MaxPooling2D\n"
   ]
  },
  {
   "cell_type": "code",
   "execution_count": 4,
   "metadata": {},
   "outputs": [],
   "source": [
    "# The data, shuffled and split between train and test sets:\n",
    "(x_train, y_train), (x_test, y_test) = cifar10.load_data()\n",
    "\n",
    "#Convert class vectors to binary class matrices.\n",
    "y_train = keras.utils.to_categorical(y_train, 10)\n",
    "y_test = keras.utils.to_categorical(y_test, 10)\n",
    "\n",
    "x_train = x_train.astype('float32') / 255.0\n",
    "x_test = x_test.astype('float32') / 255.0"
   ]
  },
  {
   "cell_type": "markdown",
   "metadata": {},
   "source": [
    "# 作業:\n",
    "請修改input shape: (Conv2D(64, (3, 3))的設定, 新增一層 Dense 並觀看 model.summary 的輸出"
   ]
  },
  {
   "cell_type": "code",
   "execution_count": 10,
   "metadata": {},
   "outputs": [
    {
     "name": "stdout",
     "output_type": "stream",
     "text": [
      "_________________________________________________________________\n",
      "Layer (type)                 Output Shape              Param #   \n",
      "=================================================================\n",
      "conv2d_2 (Conv2D)            (None, 32, 32, 16)        448       \n",
      "_________________________________________________________________\n",
      "flatten_2 (Flatten)          (None, 16384)             0         \n",
      "_________________________________________________________________\n",
      "dense_4 (Dense)              (None, 512)               8389120   \n",
      "_________________________________________________________________\n",
      "activation_4 (Activation)    (None, 512)               0         \n",
      "_________________________________________________________________\n",
      "dropout_3 (Dropout)          (None, 512)               0         \n",
      "_________________________________________________________________\n",
      "dense_5 (Dense)              (None, 512)               262656    \n",
      "_________________________________________________________________\n",
      "activation_5 (Activation)    (None, 512)               0         \n",
      "_________________________________________________________________\n",
      "dropout_4 (Dropout)          (None, 512)               0         \n",
      "_________________________________________________________________\n",
      "dense_6 (Dense)              (None, 10)                5130      \n",
      "_________________________________________________________________\n",
      "activation_6 (Activation)    (None, 10)                0         \n",
      "=================================================================\n",
      "Total params: 8,657,354\n",
      "Trainable params: 8,657,354\n",
      "Non-trainable params: 0\n",
      "_________________________________________________________________\n",
      "None\n"
     ]
    }
   ],
   "source": [
    "# build our CNN model, 多加幾層\n",
    "model = Sequential()\n",
    "model.add(Conv2D(16, (3, 3), padding='same',\n",
    "                 input_shape=x_train.shape[1:]))\n",
    "model.add(Flatten())\n",
    "model.add(Dense(512))\n",
    "model.add(Activation('relu'))\n",
    "model.add(Dropout(0.5))\n",
    "model.add(Dense(512))\n",
    "model.add(Activation('relu'))\n",
    "model.add(Dropout(0.5))\n",
    "model.add(Dense(10))\n",
    "model.add(Activation('softmax'))\n",
    "print(model.summary())"
   ]
  },
  {
   "cell_type": "code",
   "execution_count": 11,
   "metadata": {},
   "outputs": [
    {
     "name": "stdout",
     "output_type": "stream",
     "text": [
      "Train on 40000 samples, validate on 10000 samples\n",
      "Epoch 1/10\n",
      "40000/40000 [==============================] - 38s 949us/step - loss: 2.0924 - acc: 0.2538 - val_loss: 1.7840 - val_acc: 0.3877\n",
      "Epoch 2/10\n",
      "40000/40000 [==============================] - 36s 912us/step - loss: 1.7824 - acc: 0.3641 - val_loss: 1.6528 - val_acc: 0.4322\n",
      "Epoch 3/10\n",
      "40000/40000 [==============================] - 38s 946us/step - loss: 1.6821 - acc: 0.4040 - val_loss: 1.5880 - val_acc: 0.4484\n",
      "Epoch 4/10\n",
      "40000/40000 [==============================] - 37s 917us/step - loss: 1.6045 - acc: 0.4349 - val_loss: 1.5348 - val_acc: 0.4722\n",
      "Epoch 5/10\n",
      "40000/40000 [==============================] - 38s 942us/step - loss: 1.5316 - acc: 0.4577 - val_loss: 1.4932 - val_acc: 0.4761\n",
      "Epoch 6/10\n",
      "40000/40000 [==============================] - 39s 965us/step - loss: 1.4663 - acc: 0.4812 - val_loss: 1.4547 - val_acc: 0.4892\n",
      "Epoch 7/10\n",
      "40000/40000 [==============================] - 37s 930us/step - loss: 1.4137 - acc: 0.4991 - val_loss: 1.4297 - val_acc: 0.4911\n",
      "Epoch 8/10\n",
      "40000/40000 [==============================] - 37s 927us/step - loss: 1.3611 - acc: 0.5167 - val_loss: 1.4159 - val_acc: 0.5027\n",
      "Epoch 9/10\n",
      "40000/40000 [==============================] - 37s 932us/step - loss: 1.3174 - acc: 0.5328 - val_loss: 1.3920 - val_acc: 0.5109\n",
      "Epoch 10/10\n",
      "40000/40000 [==============================] - 38s 961us/step - loss: 1.2660 - acc: 0.5487 - val_loss: 1.3849 - val_acc: 0.5114\n",
      "10000/10000 [==============================] - 5s 488us/step\n",
      "Test accuracy: 0.5148\n"
     ]
    }
   ],
   "source": [
    "# initiate Adam optimizer\n",
    "opt = keras.optimizers.Adam()\n",
    "\n",
    "# Let's train the model using Adam\n",
    "model.compile(loss='categorical_crossentropy',optimizer=opt,metrics=['accuracy'])\n",
    "\n",
    "model_history = model.fit(x_train, y_train, validation_split=0.2, epochs=10, batch_size=1000, verbose=1)  \n",
    "\n",
    "# Score trained model.\n",
    "scores = model.evaluate(x_test, y_test, verbose=1)\n",
    "print('Test accuracy:', scores[1])"
   ]
  }
 ],
 "metadata": {
  "kernelspec": {
   "display_name": "Python 3",
   "language": "python",
   "name": "python3"
  },
  "language_info": {
   "codemirror_mode": {
    "name": "ipython",
    "version": 3
   },
   "file_extension": ".py",
   "mimetype": "text/x-python",
   "name": "python",
   "nbconvert_exporter": "python",
   "pygments_lexer": "ipython3",
   "version": "3.6.4"
  }
 },
 "nbformat": 4,
 "nbformat_minor": 2
}
